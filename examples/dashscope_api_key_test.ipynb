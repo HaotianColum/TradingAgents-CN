{
 "cells": [
  {
   "cell_type": "markdown",
   "id": "fd309994",
   "metadata": {},
   "source": [
    "# DashScope API Key Connectivity Test\n",
    "\n",
    "This notebook verifies your `DASHSCOPE_API_KEY` against both the Mainland (CN) and International (INTL) OpenAI-compatible endpoints.\n",
    "\n",
    "What it does:\n",
    "- Loads `.env` and reads `DASHSCOPE_API_KEY`.\n",
    "- Tests HTTP POST to `/chat/completions` on both base URLs.\n",
    "- Optionally tests via the OpenAI client with `base_url` override.\n",
    "\n",
    "Expected: 200 response with a completion. If you see 401 invalid_api_key on one URL and 200 on the other, use the URL that returns 200."
   ]
  },
  {
   "cell_type": "code",
   "execution_count": 3,
   "id": "b78c32a3",
   "metadata": {},
   "outputs": [
    {
     "name": "stdout",
     "output_type": "stream",
     "text": [
      "Defaulting to user installation because normal site-packages is not writeable\n",
      "Collecting python-dotenv\n",
      "  Downloading python_dotenv-1.1.1-py3-none-any.whl.metadata (24 kB)\n",
      "Collecting requests\n",
      "  Downloading requests-2.32.4-py3-none-any.whl.metadata (4.9 kB)\n",
      "Collecting openai\n",
      "  Downloading openai-1.99.9-py3-none-any.whl.metadata (29 kB)\n",
      "Collecting charset_normalizer<4,>=2 (from requests)\n",
      "  Downloading charset_normalizer-3.4.3-cp312-cp312-win_amd64.whl.metadata (37 kB)\n",
      "Collecting idna<4,>=2.5 (from requests)\n",
      "  Using cached idna-3.10-py3-none-any.whl.metadata (10 kB)\n",
      "Collecting urllib3<3,>=1.21.1 (from requests)\n",
      "  Downloading urllib3-2.5.0-py3-none-any.whl.metadata (6.5 kB)\n",
      "Collecting certifi>=2017.4.17 (from requests)\n",
      "  Downloading certifi-2025.8.3-py3-none-any.whl.metadata (2.4 kB)\n",
      "Collecting anyio<5,>=3.5.0 (from openai)\n",
      "  Downloading anyio-4.10.0-py3-none-any.whl.metadata (4.0 kB)\n",
      "Collecting distro<2,>=1.7.0 (from openai)\n",
      "  Downloading distro-1.9.0-py3-none-any.whl.metadata (6.8 kB)\n",
      "Collecting httpx<1,>=0.23.0 (from openai)\n",
      "  Using cached httpx-0.28.1-py3-none-any.whl.metadata (7.1 kB)\n",
      "Collecting jiter<1,>=0.4.0 (from openai)\n",
      "  Downloading jiter-0.10.0-cp312-cp312-win_amd64.whl.metadata (5.3 kB)\n",
      "Collecting pydantic<3,>=1.9.0 (from openai)\n",
      "  Downloading pydantic-2.11.7-py3-none-any.whl.metadata (67 kB)\n",
      "Collecting sniffio (from openai)\n",
      "  Using cached sniffio-1.3.1-py3-none-any.whl.metadata (3.9 kB)\n",
      "Collecting tqdm>4 (from openai)\n",
      "  Downloading tqdm-4.67.1-py3-none-any.whl.metadata (57 kB)\n",
      "Collecting typing-extensions<5,>=4.11 (from openai)\n",
      "  Downloading typing_extensions-4.14.1-py3-none-any.whl.metadata (3.0 kB)\n",
      "Collecting httpcore==1.* (from httpx<1,>=0.23.0->openai)\n",
      "  Downloading httpcore-1.0.9-py3-none-any.whl.metadata (21 kB)\n",
      "Collecting h11>=0.16 (from httpcore==1.*->httpx<1,>=0.23.0->openai)\n",
      "  Downloading h11-0.16.0-py3-none-any.whl.metadata (8.3 kB)\n",
      "Collecting annotated-types>=0.6.0 (from pydantic<3,>=1.9.0->openai)\n",
      "  Downloading annotated_types-0.7.0-py3-none-any.whl.metadata (15 kB)\n",
      "Collecting pydantic-core==2.33.2 (from pydantic<3,>=1.9.0->openai)\n",
      "  Downloading pydantic_core-2.33.2-cp312-cp312-win_amd64.whl.metadata (6.9 kB)\n",
      "Collecting typing-inspection>=0.4.0 (from pydantic<3,>=1.9.0->openai)\n",
      "  Downloading typing_inspection-0.4.1-py3-none-any.whl.metadata (2.6 kB)\n",
      "Requirement already satisfied: colorama in c:\\users\\haotz\\appdata\\local\\packages\\pythonsoftwarefoundation.python.3.12_qbz5n2kfra8p0\\localcache\\local-packages\\python312\\site-packages (from tqdm>4->openai) (0.4.6)\n",
      "Downloading python_dotenv-1.1.1-py3-none-any.whl (20 kB)\n",
      "Downloading requests-2.32.4-py3-none-any.whl (64 kB)\n",
      "Downloading openai-1.99.9-py3-none-any.whl (786 kB)\n",
      "   ---------------------------------------- 0.0/786.8 kB ? eta -:--:--\n",
      "   --------------------------------------- 786.8/786.8 kB 16.9 MB/s eta 0:00:00\n",
      "Downloading anyio-4.10.0-py3-none-any.whl (107 kB)\n",
      "Downloading certifi-2025.8.3-py3-none-any.whl (161 kB)\n",
      "Downloading charset_normalizer-3.4.3-cp312-cp312-win_amd64.whl (107 kB)\n",
      "Downloading distro-1.9.0-py3-none-any.whl (20 kB)\n",
      "Using cached httpx-0.28.1-py3-none-any.whl (73 kB)\n",
      "Downloading httpcore-1.0.9-py3-none-any.whl (78 kB)\n",
      "Using cached idna-3.10-py3-none-any.whl (70 kB)\n",
      "Downloading jiter-0.10.0-cp312-cp312-win_amd64.whl (206 kB)\n",
      "Downloading pydantic-2.11.7-py3-none-any.whl (444 kB)\n",
      "Downloading pydantic_core-2.33.2-cp312-cp312-win_amd64.whl (2.0 MB)\n",
      "   ---------------------------------------- 0.0/2.0 MB ? eta -:--:--\n",
      "   ---------------------------------------- 2.0/2.0 MB 27.3 MB/s eta 0:00:00\n",
      "Using cached sniffio-1.3.1-py3-none-any.whl (10 kB)\n",
      "Downloading tqdm-4.67.1-py3-none-any.whl (78 kB)\n",
      "Downloading typing_extensions-4.14.1-py3-none-any.whl (43 kB)\n",
      "Downloading urllib3-2.5.0-py3-none-any.whl (129 kB)\n",
      "Downloading annotated_types-0.7.0-py3-none-any.whl (13 kB)\n",
      "Downloading typing_inspection-0.4.1-py3-none-any.whl (14 kB)\n",
      "Downloading h11-0.16.0-py3-none-any.whl (37 kB)\n",
      "Installing collected packages: urllib3, typing-extensions, tqdm, sniffio, python-dotenv, jiter, idna, h11, distro, charset_normalizer, certifi, annotated-types, typing-inspection, requests, pydantic-core, httpcore, anyio, pydantic, httpx, openai\n",
      "Successfully installed annotated-types-0.7.0 anyio-4.10.0 certifi-2025.8.3 charset_normalizer-3.4.3 distro-1.9.0 h11-0.16.0 httpcore-1.0.9 httpx-0.28.1 idna-3.10 jiter-0.10.0 openai-1.99.9 pydantic-2.11.7 pydantic-core-2.33.2 python-dotenv-1.1.1 requests-2.32.4 sniffio-1.3.1 tqdm-4.67.1 typing-extensions-4.14.1 typing-inspection-0.4.1 urllib3-2.5.0\n"
     ]
    },
    {
     "name": "stderr",
     "output_type": "stream",
     "text": [
      "\n",
      "[notice] A new release of pip is available: 25.0.1 -> 25.2\n",
      "[notice] To update, run: C:\\Users\\haotz\\AppData\\Local\\Microsoft\\WindowsApps\\PythonSoftwareFoundation.Python.3.12_qbz5n2kfra8p0\\python.exe -m pip install --upgrade pip\n"
     ]
    }
   ],
   "source": [
    "!pip install python-dotenv requests openai"
   ]
  },
  {
   "cell_type": "code",
   "execution_count": 4,
   "id": "c8edee6a",
   "metadata": {},
   "outputs": [
    {
     "name": "stdout",
     "output_type": "stream",
     "text": [
      "DASHSCOPE_API_KEY loaded: sk-6ef...b7bf\n"
     ]
    }
   ],
   "source": [
    "# Load environment and read the API key (masked output)\n",
    "import os\n",
    "from pathlib import Path\n",
    "\n",
    "try:\n",
    "    from dotenv import load_dotenv\n",
    "    # Try project root .env\n",
    "    env_path = Path('.') / '.env'\n",
    "    if env_path.exists():\n",
    "        load_dotenv(env_path)\n",
    "    else:\n",
    "        load_dotenv()  # fallback to default lookup\n",
    "except Exception as e:\n",
    "    print(f'Warning: python-dotenv not available or failed to load .env: {e}')\n",
    "\n",
    "api_key = os.getenv('DASHSCOPE_API_KEY', '').strip()\n",
    "masked = api_key[:6] + '...' + api_key[-4:] if len(api_key) > 12 else ('<empty>' if not api_key else api_key[:3] + '...')\n",
    "print('DASHSCOPE_API_KEY loaded:', masked)\n",
    "assert api_key, 'DASHSCOPE_API_KEY is missing; set it in .env or environment before testing.'"
   ]
  },
  {
   "cell_type": "code",
   "execution_count": 5,
   "id": "7d507a45",
   "metadata": {},
   "outputs": [
    {
     "name": "stdout",
     "output_type": "stream",
     "text": [
      "Testing raw HTTP against CN and INTL endpoints...\n",
      "POST https://dashscope.aliyuncs.com/compatible-mode/v1/chat/completions -> 401\n",
      "{\"error\":{\"message\":\"Incorrect API key provided. \",\"type\":\"invalid_request_error\",\"param\":null,\"code\":\"invalid_api_key\"},\"request_id\":\"01d47d5f-8241-9431-b9f2-c840fdc05c59\"}\n",
      "POST https://dashscope.aliyuncs.com/compatible-mode/v1/chat/completions -> 401\n",
      "{\"error\":{\"message\":\"Incorrect API key provided. \",\"type\":\"invalid_request_error\",\"param\":null,\"code\":\"invalid_api_key\"},\"request_id\":\"01d47d5f-8241-9431-b9f2-c840fdc05c59\"}\n",
      "POST https://dashscope-intl.aliyuncs.com/compatible-mode/v1/chat/completions -> 200\n",
      "{\"choices\":[{\"message\":{\"role\":\"assistant\",\"content\":\"Hello! It seems like you might have intended to\"},\"finish_reason\":\"length\",\"index\":0,\"logprobs\":null}],\"object\":\"chat.completion\",\"usage\":{\"prompt_tokens\":13,\"completion_tokens\":10,\"total_tokens\":23,\"prompt_tokens_details\":{\"cached_tokens\":0}},\"created\":1755221312,\"system_fingerprint\":null,\"model\":\"qwen-turbo\",\"id\":\"chatcmpl-422dc393-16f6-9b3b-...\n",
      "CN summary: status=401, code=invalid_api_key, message=Incorrect API key provided. \n",
      "INTL summary: status=200, ok\n",
      "POST https://dashscope-intl.aliyuncs.com/compatible-mode/v1/chat/completions -> 200\n",
      "{\"choices\":[{\"message\":{\"role\":\"assistant\",\"content\":\"Hello! It seems like you might have intended to\"},\"finish_reason\":\"length\",\"index\":0,\"logprobs\":null}],\"object\":\"chat.completion\",\"usage\":{\"prompt_tokens\":13,\"completion_tokens\":10,\"total_tokens\":23,\"prompt_tokens_details\":{\"cached_tokens\":0}},\"created\":1755221312,\"system_fingerprint\":null,\"model\":\"qwen-turbo\",\"id\":\"chatcmpl-422dc393-16f6-9b3b-...\n",
      "CN summary: status=401, code=invalid_api_key, message=Incorrect API key provided. \n",
      "INTL summary: status=200, ok\n"
     ]
    }
   ],
   "source": [
    "# Define test helpers and endpoints\n",
    "import json, requests\n",
    "\n",
    "CN_BASE = 'https://dashscope.aliyuncs.com/compatible-mode/v1'\n",
    "INTL_BASE = 'https://dashscope-intl.aliyuncs.com/compatible-mode/v1'\n",
    "\n",
    "def test_endpoint(base_url: str, key: str, model: str = 'qwen-turbo', timeout: int = 15):\n",
    "    url = base_url.rstrip('/') + '/chat/completions'\n",
    "    headers = {\n",
    "        'Authorization': f'Bearer {key}',\n",
    "        'Content-Type': 'application/json'\n",
    "    }\n",
    "    payload = {\n",
    "        'model': model,\n",
    "        'messages': [{ 'role': 'user', 'content': 'ping' }],\n",
    "        'max_tokens': 10,\n",
    "        'temperature': 0.1\n",
    "    }\n",
    "    try:\n",
    "        r = requests.post(url, headers=headers, json=payload, timeout=timeout)\n",
    "        print(f'POST {url} -> {r.status_code}')\n",
    "        # Show compact error or partial content\n",
    "        text = r.text\n",
    "        print(text[:400] + ('...' if len(text) > 400 else ''))\n",
    "        return r\n",
    "    except Exception as e:\n",
    "        print(f'HTTP request failed: {e}')\n",
    "        return None\n",
    "\n",
    "print('Testing raw HTTP against CN and INTL endpoints...')\n",
    "resp_cn = test_endpoint(CN_BASE, api_key)\n",
    "resp_intl = test_endpoint(INTL_BASE, api_key)\n",
    "\n",
    "def status_summary(resp):\n",
    "    if resp is None:\n",
    "        return 'no response'\n",
    "    try:\n",
    "        data = resp.json()\n",
    "    except Exception:\n",
    "        return f'status={resp.status_code}, non-JSON body'\n",
    "    err = data.get('error') if isinstance(data, dict) else None\n",
    "    if err:\n",
    "        return f'status={resp.status_code}, code={err.get('code')}, message={err.get('message')}'\n",
    "    return f'status={resp.status_code}, ok'\n",
    "\n",
    "print('CN summary:', status_summary(resp_cn))\n",
    "print('INTL summary:', status_summary(resp_intl))"
   ]
  },
  {
   "cell_type": "code",
   "execution_count": 6,
   "id": "f58a3825",
   "metadata": {},
   "outputs": [
    {
     "name": "stdout",
     "output_type": "stream",
     "text": [
      "OpenAI client test -> https://dashscope.aliyuncs.com/compatible-mode/v1\n",
      "OpenAI client error: Error code: 401 - {'error': {'message': 'Incorrect API key provided. ', 'type': 'invalid_request_error', 'param': None, 'code': 'invalid_api_key'}, 'request_id': '77d0b00e-ed72-9745-8b27-d3fd2c407356'}\n",
      "OpenAI client error: Error code: 401 - {'error': {'message': 'Incorrect API key provided. ', 'type': 'invalid_request_error', 'param': None, 'code': 'invalid_api_key'}, 'request_id': '77d0b00e-ed72-9745-8b27-d3fd2c407356'}\n",
      "OpenAI client test -> https://dashscope-intl.aliyuncs.com/compatible-mode/v1\n",
      "OpenAI client test -> https://dashscope-intl.aliyuncs.com/compatible-mode/v1\n",
      "OK: Hello! How can I assist you today?\n",
      "OK: Hello! How can I assist you today?\n"
     ]
    }
   ],
   "source": [
    "# Optional: Test via OpenAI client with base_url override\n",
    "try:\n",
    "    from openai import OpenAI\n",
    "    messages = [{ 'role': 'user', 'content': 'Say hello in one sentence.' }]\n",
    "    for base in (CN_BASE, INTL_BASE):\n",
    "        try:\n",
    "            client = OpenAI(api_key=api_key, base_url=base)\n",
    "            print(f'OpenAI client test -> {base}')\n",
    "            r = client.chat.completions.create(model='qwen-turbo', messages=messages, max_tokens=20, temperature=0.1)\n",
    "            # Print compact result\n",
    "            content = r.choices[0].message.content if getattr(r, 'choices', None) else str(r)\n",
    "            print('OK:', (content[:200] + '...') if content and len(content) > 200 else content)\n",
    "        except Exception as e:\n",
    "            print('OpenAI client error:', e)\n",
    "except Exception as e:\n",
    "    print('OpenAI package not available or failed to import:', e)"
   ]
  },
  {
   "cell_type": "code",
   "execution_count": null,
   "id": "cc7c8e35",
   "metadata": {},
   "outputs": [],
   "source": []
  }
 ],
 "metadata": {
  "kernelspec": {
   "display_name": "Python 3",
   "language": "python",
   "name": "python3"
  },
  "language_info": {
   "codemirror_mode": {
    "name": "ipython",
    "version": 3
   },
   "file_extension": ".py",
   "mimetype": "text/x-python",
   "name": "python",
   "nbconvert_exporter": "python",
   "pygments_lexer": "ipython3",
   "version": "3.12.10"
  }
 },
 "nbformat": 4,
 "nbformat_minor": 5
}
